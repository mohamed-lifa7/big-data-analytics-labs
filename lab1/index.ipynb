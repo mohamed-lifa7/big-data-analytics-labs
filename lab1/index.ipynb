{
 "cells": [
  {
   "cell_type": "code",
   "execution_count": 26,
   "id": "1579e454",
   "metadata": {},
   "outputs": [
    {
     "name": "stdout",
     "output_type": "stream",
     "text": [
      "Success to retrive the page 1\n",
      "Success to retrive the page 2\n",
      "Success to retrive the page 3\n",
      "Success to retrive the page 4\n",
      "Success to retrive the page 5\n",
      "Success to retrive the page 6\n",
      "Success to retrive the page 7\n",
      "Success to retrive the page 8\n",
      "Success to retrive the page 9\n",
      "Success to retrive the page 10\n",
      "Success to retrive the page 11\n",
      "Success to retrive the page 12\n",
      "Success to retrive the page 13\n",
      "Success to retrive the page 14\n",
      "Success to retrive the page 15\n",
      "Success to retrive the page 16\n",
      "Success to retrive the page 17\n",
      "Success to retrive the page 18\n",
      "Success to retrive the page 19\n",
      "Success to retrive the page 20\n",
      "Success to retrive the page 21\n",
      "Success to retrive the page 22\n",
      "Success to retrive the page 23\n",
      "Success to retrive the page 24\n",
      "Success to retrive the page 25\n",
      "Success to retrive the page 26\n",
      "Success to retrive the page 27\n",
      "Success to retrive the page 28\n",
      "Success to retrive the page 29\n",
      "Success to retrive the page 30\n",
      "Success to retrive the page 31\n",
      "Success to retrive the page 32\n",
      "Success to retrive the page 33\n",
      "Success to retrive the page 34\n",
      "Success to retrive the page 35\n",
      "Success to retrive the page 36\n",
      "Success to retrive the page 37\n",
      "Success to retrive the page 38\n",
      "Success to retrive the page 39\n",
      "Success to retrive the page 40\n",
      "Success to retrive the page 41\n",
      "Success to retrive the page 42\n",
      "Success to retrive the page 43\n",
      "Success to retrive the page 44\n",
      "Success to retrive the page 45\n",
      "Success to retrive the page 46\n",
      "Success to retrive the page 47\n",
      "Success to retrive the page 48\n",
      "Success to retrive the page 49\n",
      "Success to retrive the page 50\n"
     ]
    }
   ],
   "source": [
    "import requests\n",
    "\n",
    "\n",
    "BASE_URL = \"https://books.toscrape.com/catalogue/page-{}.html\"\n",
    "\n",
    "all_book_titles = []\n",
    "\n",
    "# There are 50 pages in total.\n",
    "for page_num in range(1,51):\n",
    "    url = BASE_URL.format(page_num)\n",
    "    \n",
    "    response = requests.get(url)\n",
    "    \n",
    "    if response.status_code != 200:\n",
    "        print(f\"Failed to retrive the page {page_num}\")\n",
    "    else:\n",
    "        all_book_titles.append(response.text)\n",
    "        print(f\"Success to retrive the page {page_num}\")\n",
    "\n",
    "\n",
    "# wanna join the array into one variable \n",
    "html_content = \"\\n\".join(all_book_titles)"
   ]
  },
  {
   "cell_type": "code",
   "execution_count": 27,
   "id": "bc1222d1",
   "metadata": {},
   "outputs": [
    {
     "data": {
      "text/plain": [
       "[{'title': 'A Light in the Attic', 'price': 'Â£51.77'},\n",
       " {'title': 'Tipping the Velvet', 'price': 'Â£53.74'},\n",
       " {'title': 'Soumission', 'price': 'Â£50.10'},\n",
       " {'title': 'Sharp Objects', 'price': 'Â£47.82'},\n",
       " {'title': 'Sapiens: A Brief History of Humankind', 'price': 'Â£54.23'}]"
      ]
     },
     "execution_count": 27,
     "metadata": {},
     "output_type": "execute_result"
    }
   ],
   "source": [
    "from bs4 import BeautifulSoup\n",
    "\n",
    "\n",
    "# Create the BeautifulSoup obj to parse the HTML\n",
    "soup = BeautifulSoup(html_content, \"html.parser\")\n",
    "\n",
    "# Find all the book containers of the page\n",
    "# each book is inside the article tag with class 'product_pod'\n",
    "books = soup.find_all(\"article\", class_=\"product_pod\")\n",
    "\n",
    "scraped_data = []\n",
    "\n",
    "for book in books:\n",
    "    title = book.h3.a[\"title\"]\n",
    "    price = book.find(\"p\", class_=\"price_color\").text\n",
    "\n",
    "    scraped_data.append({\"title\":title, \"price\":price})\n",
    "    \n",
    "scraped_data[:5]"
   ]
  },
  {
   "cell_type": "code",
   "execution_count": 28,
   "id": "1bb9eae5",
   "metadata": {},
   "outputs": [
    {
     "data": {
      "application/vnd.microsoft.datawrangler.viewer.v0+json": {
       "columns": [
        {
         "name": "index",
         "rawType": "int64",
         "type": "integer"
        },
        {
         "name": "title",
         "rawType": "object",
         "type": "string"
        },
        {
         "name": "price",
         "rawType": "object",
         "type": "string"
        }
       ],
       "ref": "8815f244-fdd2-4b93-9881-61a199e14a87",
       "rows": [
        [
         "0",
         "A Light in the Attic",
         "Â£51.77"
        ],
        [
         "1",
         "Tipping the Velvet",
         "Â£53.74"
        ],
        [
         "2",
         "Soumission",
         "Â£50.10"
        ],
        [
         "3",
         "Sharp Objects",
         "Â£47.82"
        ],
        [
         "4",
         "Sapiens: A Brief History of Humankind",
         "Â£54.23"
        ]
       ],
       "shape": {
        "columns": 2,
        "rows": 5
       }
      },
      "text/html": [
       "<div>\n",
       "<style scoped>\n",
       "    .dataframe tbody tr th:only-of-type {\n",
       "        vertical-align: middle;\n",
       "    }\n",
       "\n",
       "    .dataframe tbody tr th {\n",
       "        vertical-align: top;\n",
       "    }\n",
       "\n",
       "    .dataframe thead th {\n",
       "        text-align: right;\n",
       "    }\n",
       "</style>\n",
       "<table border=\"1\" class=\"dataframe\">\n",
       "  <thead>\n",
       "    <tr style=\"text-align: right;\">\n",
       "      <th></th>\n",
       "      <th>title</th>\n",
       "      <th>price</th>\n",
       "    </tr>\n",
       "  </thead>\n",
       "  <tbody>\n",
       "    <tr>\n",
       "      <th>0</th>\n",
       "      <td>A Light in the Attic</td>\n",
       "      <td>Â£51.77</td>\n",
       "    </tr>\n",
       "    <tr>\n",
       "      <th>1</th>\n",
       "      <td>Tipping the Velvet</td>\n",
       "      <td>Â£53.74</td>\n",
       "    </tr>\n",
       "    <tr>\n",
       "      <th>2</th>\n",
       "      <td>Soumission</td>\n",
       "      <td>Â£50.10</td>\n",
       "    </tr>\n",
       "    <tr>\n",
       "      <th>3</th>\n",
       "      <td>Sharp Objects</td>\n",
       "      <td>Â£47.82</td>\n",
       "    </tr>\n",
       "    <tr>\n",
       "      <th>4</th>\n",
       "      <td>Sapiens: A Brief History of Humankind</td>\n",
       "      <td>Â£54.23</td>\n",
       "    </tr>\n",
       "  </tbody>\n",
       "</table>\n",
       "</div>"
      ],
      "text/plain": [
       "                                   title    price\n",
       "0                   A Light in the Attic  Â£51.77\n",
       "1                     Tipping the Velvet  Â£53.74\n",
       "2                             Soumission  Â£50.10\n",
       "3                          Sharp Objects  Â£47.82\n",
       "4  Sapiens: A Brief History of Humankind  Â£54.23"
      ]
     },
     "execution_count": 28,
     "metadata": {},
     "output_type": "execute_result"
    }
   ],
   "source": [
    "import pandas as pd\n",
    "\n",
    "df = pd.DataFrame(scraped_data)\n",
    "\n",
    "# index=Flase just for preventing pandas from writing row numbers into the file\n",
    "df.to_csv(\"./data/books.csv\", index=False)\n",
    "\n",
    "df.head()"
   ]
  }
 ],
 "metadata": {
  "kernelspec": {
   "display_name": "venv",
   "language": "python",
   "name": "python3"
  },
  "language_info": {
   "codemirror_mode": {
    "name": "ipython",
    "version": 3
   },
   "file_extension": ".py",
   "mimetype": "text/x-python",
   "name": "python",
   "nbconvert_exporter": "python",
   "pygments_lexer": "ipython3",
   "version": "3.11.7"
  }
 },
 "nbformat": 4,
 "nbformat_minor": 5
}
