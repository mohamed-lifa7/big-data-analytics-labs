{
 "cells": [
  {
   "cell_type": "code",
   "execution_count": null,
   "id": "b4d68497",
   "metadata": {},
   "outputs": [
    {
     "name": "stderr",
     "output_type": "stream",
     "text": [
      "/home/med/Desktop/materials/bigdata/venv/lib/python3.11/site-packages/dask/dataframe/io/csv.py:508: UserWarning: Warning zip compression does not support breaking apart files\n",
      "Please ensure that each individual file can fit in memory and\n",
      "use the keyword ``blocksize=None to remove this message``\n",
      "Setting ``blocksize=None``\n",
      "  warn(\n"
     ]
    }
   ],
   "source": [
    "import dask.dataframe as dd\n",
    "import time\n",
    "\n",
    "# Point directly to your ZIP file\n",
    "zip_file_path = './data/train.csv.zip'\n",
    "\n",
    "start_time = time.time()\n",
    "\n",
    "# Dask also uses the 'compression' argument\n",
    "ddf = dd.read_csv(\n",
    "    zip_file_path,\n",
    "    compression='zip',  # <-- Tell Dask it's a zip file\n",
    "    dtype={'attributed_time': 'object'} # <-- Keep this fix from before!\n",
    ")\n",
    "\n",
    "total_rows = len(ddf) # This triggers the read and computation\n",
    "\n",
    "end_time = time.time()\n",
    "time_taken = end_time - start_time\n",
    "\n",
    "print(f\"Total rows: {total_rows}\")\n",
    "print(f\"Time taken reading ZIP with Dask: {time_taken:.2f} seconds\")"
   ]
  }
 ],
 "metadata": {
  "kernelspec": {
   "display_name": "venv",
   "language": "python",
   "name": "python3"
  },
  "language_info": {
   "codemirror_mode": {
    "name": "ipython",
    "version": 3
   },
   "file_extension": ".py",
   "mimetype": "text/x-python",
   "name": "python",
   "nbconvert_exporter": "python",
   "pygments_lexer": "ipython3",
   "version": "3.11.7"
  }
 },
 "nbformat": 4,
 "nbformat_minor": 5
}
